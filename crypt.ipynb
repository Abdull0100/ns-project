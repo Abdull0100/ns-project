{
  "nbformat": 4,
  "nbformat_minor": 0,
  "metadata": {
    "colab": {
      "provenance": []
    },
    "kernelspec": {
      "name": "python3",
      "display_name": "Python 3"
    },
    "language_info": {
      "name": "python"
    }
  },
  "cells": [
    {
      "cell_type": "code",
      "source": [
        "!apt install python3.12"
      ],
      "metadata": {
        "colab": {
          "base_uri": "https://localhost:8080/"
        },
        "id": "1tAxeZduMZbm",
        "outputId": "b539072b-a6ba-4505-f59a-50092a8f8160"
      },
      "execution_count": 5,
      "outputs": [
        {
          "output_type": "stream",
          "name": "stdout",
          "text": [
            "Reading package lists... Done\n",
            "Building dependency tree... Done\n",
            "Reading state information... Done\n",
            "The following additional packages will be installed:\n",
            "  libpython3.12-stdlib\n",
            "Suggested packages:\n",
            "  python3.12-venv\n",
            "The following NEW packages will be installed:\n",
            "  libpython3.12-stdlib python3.12\n",
            "0 upgraded, 2 newly installed, 0 to remove and 49 not upgraded.\n",
            "Need to get 5,415 kB of archives.\n",
            "After this operation, 22.5 MB of additional disk space will be used.\n",
            "Get:1 https://ppa.launchpadcontent.net/deadsnakes/ppa/ubuntu jammy/main amd64 libpython3.12-stdlib amd64 3.12.8-1+jammy1 [2,889 kB]\n",
            "Get:2 https://ppa.launchpadcontent.net/deadsnakes/ppa/ubuntu jammy/main amd64 python3.12 amd64 3.12.8-1+jammy1 [2,526 kB]\n",
            "Fetched 5,415 kB in 2s (2,689 kB/s)\n",
            "Selecting previously unselected package libpython3.12-stdlib:amd64.\n",
            "(Reading database ... 124373 files and directories currently installed.)\n",
            "Preparing to unpack .../libpython3.12-stdlib_3.12.8-1+jammy1_amd64.deb ...\n",
            "Unpacking libpython3.12-stdlib:amd64 (3.12.8-1+jammy1) ...\n",
            "Selecting previously unselected package python3.12.\n",
            "Preparing to unpack .../python3.12_3.12.8-1+jammy1_amd64.deb ...\n",
            "Unpacking python3.12 (3.12.8-1+jammy1) ...\n",
            "Setting up libpython3.12-stdlib:amd64 (3.12.8-1+jammy1) ...\n",
            "Setting up python3.12 (3.12.8-1+jammy1) ...\n",
            "Processing triggers for mailcap (3.70+nmu1ubuntu1) ...\n",
            "Processing triggers for man-db (2.10.2-1) ...\n"
          ]
        }
      ]
    },
    {
      "cell_type": "code",
      "source": [
        "!pip install pqcrypto"
      ],
      "metadata": {
        "colab": {
          "base_uri": "https://localhost:8080/"
        },
        "id": "HLhmrsSEMA3-",
        "outputId": "bc6864f5-7129-4341-b09b-5d27b2586dd9"
      },
      "execution_count": 7,
      "outputs": [
        {
          "output_type": "stream",
          "name": "stdout",
          "text": [
            "Collecting pqcrypto\n",
            "  Downloading pqcrypto-0.1.3.tar.gz (1.4 MB)\n",
            "\u001b[2K     \u001b[90m━━━━━━━━━━━━━━━━━━━━━━━━━━━━━━━━━━━━━━━━\u001b[0m \u001b[32m1.4/1.4 MB\u001b[0m \u001b[31m13.1 MB/s\u001b[0m eta \u001b[36m0:00:00\u001b[0m\n",
            "\u001b[?25h  Installing build dependencies ... \u001b[?25l\u001b[?25hdone\n",
            "  Getting requirements to build wheel ... \u001b[?25l\u001b[?25hdone\n",
            "  Preparing metadata (pyproject.toml) ... \u001b[?25l\u001b[?25hdone\n",
            "Requirement already satisfied: cffi<2.0.0,>=1.14.2 in /usr/local/lib/python3.10/dist-packages (from pqcrypto) (1.17.1)\n",
            "Requirement already satisfied: pycparser in /usr/local/lib/python3.10/dist-packages (from cffi<2.0.0,>=1.14.2->pqcrypto) (2.22)\n",
            "Building wheels for collected packages: pqcrypto\n",
            "  Building wheel for pqcrypto (pyproject.toml) ... \u001b[?25l\u001b[?25hdone\n",
            "  Created wheel for pqcrypto: filename=pqcrypto-0.1.3-cp310-cp310-manylinux_2_35_x86_64.whl size=2119082 sha256=471e284861276cdb8d65ba2f7a65b0c506a26ddaa8ff575a5aab34652bd42f26\n",
            "  Stored in directory: /root/.cache/pip/wheels/89/13/4f/b2c678a9f6c473acb0d259d47c30387bab4f836f28dab19f1c\n",
            "Successfully built pqcrypto\n",
            "Installing collected packages: pqcrypto\n",
            "Successfully installed pqcrypto-0.1.3\n"
          ]
        }
      ]
    },
    {
      "cell_type": "code",
      "source": [
        "!pip install argon2-cffi pycryptodome\n"
      ],
      "metadata": {
        "colab": {
          "base_uri": "https://localhost:8080/"
        },
        "id": "ZdyingWXMxhA",
        "outputId": "a2363c44-c44f-4103-a9e9-44e1bd08e157"
      },
      "execution_count": 8,
      "outputs": [
        {
          "output_type": "stream",
          "name": "stdout",
          "text": [
            "Requirement already satisfied: argon2-cffi in /usr/local/lib/python3.10/dist-packages (23.1.0)\n",
            "Collecting pycryptodome\n",
            "  Downloading pycryptodome-3.21.0-cp36-abi3-manylinux_2_17_x86_64.manylinux2014_x86_64.whl.metadata (3.4 kB)\n",
            "Requirement already satisfied: pqcrypto in /usr/local/lib/python3.10/dist-packages (0.1.3)\n",
            "Requirement already satisfied: argon2-cffi-bindings in /usr/local/lib/python3.10/dist-packages (from argon2-cffi) (21.2.0)\n",
            "Requirement already satisfied: cffi<2.0.0,>=1.14.2 in /usr/local/lib/python3.10/dist-packages (from pqcrypto) (1.17.1)\n",
            "Requirement already satisfied: pycparser in /usr/local/lib/python3.10/dist-packages (from cffi<2.0.0,>=1.14.2->pqcrypto) (2.22)\n",
            "Downloading pycryptodome-3.21.0-cp36-abi3-manylinux_2_17_x86_64.manylinux2014_x86_64.whl (2.3 MB)\n",
            "\u001b[2K   \u001b[90m━━━━━━━━━━━━━━━━━━━━━━━━━━━━━━━━━━━━━━━━\u001b[0m \u001b[32m2.3/2.3 MB\u001b[0m \u001b[31m30.6 MB/s\u001b[0m eta \u001b[36m0:00:00\u001b[0m\n",
            "\u001b[?25hInstalling collected packages: pycryptodome\n",
            "Successfully installed pycryptodome-3.21.0\n"
          ]
        }
      ]
    },
    {
      "cell_type": "code",
      "source": [
        "!pip install twofish"
      ],
      "metadata": {
        "colab": {
          "base_uri": "https://localhost:8080/"
        },
        "id": "pgxvj5keX5Ml",
        "outputId": "4aafc9a0-d47c-45e1-a154-0c7ba66b37fc"
      },
      "execution_count": 25,
      "outputs": [
        {
          "output_type": "stream",
          "name": "stdout",
          "text": [
            "Collecting twofish\n",
            "  Downloading twofish-0.3.0.tar.gz (26 kB)\n",
            "  Preparing metadata (setup.py) ... \u001b[?25l\u001b[?25hdone\n",
            "Building wheels for collected packages: twofish\n",
            "  Building wheel for twofish (setup.py) ... \u001b[?25l\u001b[?25hdone\n",
            "  Created wheel for twofish: filename=twofish-0.3.0-cp310-cp310-linux_x86_64.whl size=24199 sha256=de7441f7dd7767d34ae6b41c6484a06cfe674a21b35b5362c30bed41f08d52dc\n",
            "  Stored in directory: /root/.cache/pip/wheels/a7/3c/27/c390be4f3e8a299d4b2836f8daa19697eb991eacbfabe25031\n",
            "Successfully built twofish\n",
            "Installing collected packages: twofish\n",
            "Successfully installed twofish-0.3.0\n"
          ]
        }
      ]
    },
    {
      "cell_type": "code",
      "execution_count": 26,
      "metadata": {
        "colab": {
          "base_uri": "https://localhost:8080/"
        },
        "id": "jeIulk_ObGsD",
        "outputId": "f930b052-fc9d-4ea9-e9d5-3d990eb63d68"
      },
      "outputs": [
        {
          "output_type": "stream",
          "name": "stdout",
          "text": [
            "Hashed Password: $argon2id$v=19$m=65536,t=3,p=4$AGDQfyf5lcGD/LAZTfFMDA$2Tfx9s8rzA1agx5HRdipj/qG4SKH/X+FlO6afXAqm0M\n",
            "Ciphertext: 75233d067550d5d772eb3e46f4c7acdf08694cffa0240791ce49e8faaaf2f3a591a6b482d07bbbc1bcd203bc527512e9\n",
            "Decrypted Data: This is sensitive data to encrypt.\n",
            "Hash Matched: The password is valid.\n"
          ]
        }
      ],
      "source": [
        "import os\n",
        "from argon2 import PasswordHasher\n",
        "from twofish import Twofish\n",
        "\n",
        "class SecureEncryptionSystem:\n",
        "    def __init__(self):\n",
        "        self.ph = PasswordHasher()\n",
        "\n",
        "    def hash_password(self, password):\n",
        "        \"\"\"Hash the user-provided password using Argon2.\"\"\"\n",
        "        hashed = self.ph.hash(password)\n",
        "        return hashed\n",
        "\n",
        "    def encrypt_with_twofish(self, key, plaintext):\n",
        "        \"\"\"Encrypt the plaintext using the Twofish encryption algorithm.\"\"\"\n",
        "        tf = Twofish(key[:16])  # Twofish accepts 16-byte keys\n",
        "        padded_plaintext = self._pad(plaintext.encode())\n",
        "        ciphertext = b\"\".join([tf.encrypt(padded_plaintext[i:i+16]) for i in range(0, len(padded_plaintext), 16)])\n",
        "        return ciphertext\n",
        "\n",
        "    def decrypt_with_twofish(self, key, ciphertext):\n",
        "        \"\"\"Decrypt the ciphertext using the Twofish encryption algorithm.\"\"\"\n",
        "        tf = Twofish(key[:16])  # Twofish accepts 16-byte keys\n",
        "        decrypted = b\"\".join([tf.decrypt(ciphertext[i:i+16]) for i in range(0, len(ciphertext), 16)])\n",
        "        return self._unpad(decrypted).decode()\n",
        "\n",
        "    def verify_hash(self, password, stored_hash):\n",
        "        \"\"\"Verify the provided password matches the stored hash.\"\"\"\n",
        "        try:\n",
        "            self.ph.verify(stored_hash, password)\n",
        "            return True\n",
        "        except Exception as e:\n",
        "            return False\n",
        "\n",
        "    def _pad(self, data):\n",
        "        \"\"\"Pad data to a multiple of 16 bytes.\"\"\"\n",
        "        padding_length = 16 - (len(data) % 16)\n",
        "        return data + bytes([padding_length] * padding_length)\n",
        "\n",
        "    def _unpad(self, data):\n",
        "        \"\"\"Remove padding from data.\"\"\"\n",
        "        padding_length = data[-1]\n",
        "        return data[:-padding_length]\n",
        "\n",
        "# Example Usage\n",
        "if __name__ == \"__main__\":\n",
        "    # Step 2: Input password from the user\n",
        "    password = \"supersecurepassword\"\n",
        "\n",
        "    # Step 3: Hash the password using Argon2\n",
        "    system = SecureEncryptionSystem()\n",
        "    hashed_password = system.hash_password(password)\n",
        "    print(f\"Hashed Password: {hashed_password}\")\n",
        "\n",
        "    # Step 5: Use the hashed password as input to Twofish encryption to generate a key\n",
        "    encryption_key = hashed_password.encode()[:16]  # Derive a 16-byte key from the hash\n",
        "    sensitive_data = \"This is sensitive data to encrypt.\"\n",
        "\n",
        "    # Step 6-8: Encrypt the sensitive data\n",
        "    ciphertext = system.encrypt_with_twofish(encryption_key, sensitive_data)\n",
        "    print(f\"Ciphertext: {ciphertext.hex()}\")\n",
        "\n",
        "    # Step 9: Decrypt the ciphertext\n",
        "    decrypted_data = system.decrypt_with_twofish(encryption_key, ciphertext)\n",
        "    print(f\"Decrypted Data: {decrypted_data}\")\n",
        "\n",
        "    # Step 11: Verify the hash\n",
        "    hash_match = system.verify_hash(password, hashed_password)\n",
        "    if hash_match:\n",
        "        print(\"Hash Matched: The password is valid.\")\n",
        "    else:\n",
        "        print(\"Hash Mismatch: The password is invalid.\")\n"
      ]
    }
  ]
}